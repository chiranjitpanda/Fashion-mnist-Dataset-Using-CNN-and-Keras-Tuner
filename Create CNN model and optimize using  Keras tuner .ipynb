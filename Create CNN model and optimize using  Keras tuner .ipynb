{
 "cells": [
  {
   "cell_type": "code",
   "execution_count": 2,
   "id": "ac10f48d",
   "metadata": {},
   "outputs": [],
   "source": [
    "## import necessary Libaries for this project\n",
    "import tensorflow as tf\n",
    "from tensorflow import keras\n",
    "import numpy as np\n",
    "from kerastuner.tuners import RandomSearch"
   ]
  },
  {
   "cell_type": "code",
   "execution_count": 3,
   "id": "911cc9d5",
   "metadata": {},
   "outputs": [],
   "source": [
    "## to initialize the datasets from fashion-mnist\n",
    "fashion_mnist = keras.datasets.fashion_mnist"
   ]
  },
  {
   "cell_type": "code",
   "execution_count": 4,
   "id": "96fff33b",
   "metadata": {},
   "outputs": [
    {
     "data": {
      "text/plain": [
       "<module 'tensorflow.keras.datasets.fashion_mnist' from 'C:\\\\Users\\\\HP\\\\Anaconda3\\\\envs\\\\envtensorflow\\\\lib\\\\site-packages\\\\tensorflow\\\\keras\\\\datasets\\\\fashion_mnist\\\\__init__.py'>"
      ]
     },
     "execution_count": 4,
     "metadata": {},
     "output_type": "execute_result"
    }
   ],
   "source": [
    "fashion_mnist"
   ]
  },
  {
   "cell_type": "code",
   "execution_count": 5,
   "id": "cd1cb394",
   "metadata": {},
   "outputs": [],
   "source": [
    "## to split the datasets into train and test images\n",
    "(train_images,train_labels),(test_images,test_labels)  = fashion_mnist.load_data()"
   ]
  },
  {
   "cell_type": "code",
   "execution_count": 6,
   "id": "05c09c8d",
   "metadata": {},
   "outputs": [],
   "source": [
    "## to normalize the pixel 0 to 1 values.\n",
    "train_images = train_images/255.0\n",
    "test_images = test_images/255.0"
   ]
  },
  {
   "cell_type": "code",
   "execution_count": 7,
   "id": "f5abc549",
   "metadata": {},
   "outputs": [
    {
     "data": {
      "text/plain": [
       "(28, 28)"
      ]
     },
     "execution_count": 7,
     "metadata": {},
     "output_type": "execute_result"
    }
   ],
   "source": [
    "train_images[0].shape"
   ]
  },
  {
   "cell_type": "code",
   "execution_count": 8,
   "id": "466a3506",
   "metadata": {},
   "outputs": [],
   "source": [
    "## to resize the images\n",
    "train_images = train_images.reshape(len(train_images),28,28,1)\n",
    "test_images = test_images.reshape(len(test_images),28,28,1)"
   ]
  },
  {
   "cell_type": "code",
   "execution_count": 9,
   "id": "d7f3379f",
   "metadata": {},
   "outputs": [],
   "source": [
    "def build_model(hp):\n",
    "    \n",
    "    model = keras.Sequential([\n",
    "    keras.layers.Conv2D(\n",
    "        filters=hp.Int('conv_1_filter', min_value=32, max_value=128, step=16),\n",
    "        kernel_size=hp.Choice('conv_1_kernel', values = [3,5]),\n",
    "        activation='relu',\n",
    "        input_shape=(28,28,1)\n",
    "    ),\n",
    "    keras.layers.Conv2D(\n",
    "        filters=hp.Int('conv_2_filter', min_value=32, max_value=64, step=16),\n",
    "        kernel_size=hp.Choice('conv_2_kernel', values = [3,5]),\n",
    "        activation='relu'\n",
    "    ),\n",
    "    keras.layers.Flatten(),\n",
    "    keras.layers.Dense(\n",
    "        units=hp.Int('dense_1_units', min_value=32, max_value=128, step=16),\n",
    "        activation='relu'\n",
    "    ),\n",
    "    keras.layers.Dense(10, activation='softmax')\n",
    "  ])\n",
    "  \n",
    "    model.compile(optimizer=keras.optimizers.Adam(hp.Choice('learning_rate', values=[1e-2, 1e-3])),\n",
    "              loss='sparse_categorical_crossentropy',\n",
    "              metrics=['accuracy'])\n",
    "  \n",
    "    return model\n"
   ]
  },
  {
   "cell_type": "code",
   "execution_count": 10,
   "id": "b9184e34",
   "metadata": {},
   "outputs": [
    {
     "name": "stdout",
     "output_type": "stream",
     "text": [
      "INFO:tensorflow:Reloading Oracle from existing project output\\Mnist Fashion\\oracle.json\n"
     ]
    }
   ],
   "source": [
    "tuner_search=RandomSearch(build_model,\n",
    "                          objective='val_accuracy',\n",
    "                          max_trials=5,directory='output',project_name=\"Mnist Fashion\")"
   ]
  },
  {
   "cell_type": "code",
   "execution_count": 11,
   "id": "7d11f342",
   "metadata": {},
   "outputs": [
    {
     "name": "stdout",
     "output_type": "stream",
     "text": [
      "Search space summary\n",
      "Default search space size: 6\n",
      "conv_1_filter (Int)\n",
      "{'default': None, 'conditions': [], 'min_value': 32, 'max_value': 128, 'step': 16, 'sampling': None}\n",
      "conv_1_kernel (Choice)\n",
      "{'default': 3, 'conditions': [], 'values': [3, 5], 'ordered': True}\n",
      "conv_2_filter (Int)\n",
      "{'default': None, 'conditions': [], 'min_value': 32, 'max_value': 64, 'step': 16, 'sampling': None}\n",
      "conv_2_kernel (Choice)\n",
      "{'default': 3, 'conditions': [], 'values': [3, 5], 'ordered': True}\n",
      "dense_1_units (Int)\n",
      "{'default': None, 'conditions': [], 'min_value': 32, 'max_value': 128, 'step': 16, 'sampling': None}\n",
      "learning_rate (Choice)\n",
      "{'default': 0.01, 'conditions': [], 'values': [0.01, 0.001], 'ordered': True}\n"
     ]
    }
   ],
   "source": [
    "tuner_search.search_space_summary()"
   ]
  },
  {
   "cell_type": "code",
   "execution_count": 12,
   "id": "ef9f8f22",
   "metadata": {},
   "outputs": [
    {
     "name": "stdout",
     "output_type": "stream",
     "text": [
      "Trial 5 Complete [02h 21m 25s]\n",
      "val_accuracy: 0.8690000176429749\n",
      "\n",
      "Best val_accuracy So Far: 0.9208333492279053\n",
      "Total elapsed time: 06h 11m 38s\n",
      "INFO:tensorflow:Oracle triggered exit\n"
     ]
    }
   ],
   "source": [
    "## best hyperparameter\n",
    "tuner_search.search(train_images,train_labels,epochs=3,validation_split=0.1)"
   ]
  },
  {
   "cell_type": "code",
   "execution_count": 17,
   "id": "ab3c3aca",
   "metadata": {},
   "outputs": [
    {
     "data": {
      "text/plain": [
       "<tensorflow.python.keras.engine.sequential.Sequential at 0x28711a22d00>"
      ]
     },
     "execution_count": 17,
     "metadata": {},
     "output_type": "execute_result"
    }
   ],
   "source": [
    "## to get the best model usimg hyparameter\n",
    "model = tuner_search.get_best_models(num_models=1)[0]\n",
    "model"
   ]
  },
  {
   "cell_type": "code",
   "execution_count": 18,
   "id": "7c9f9605",
   "metadata": {},
   "outputs": [
    {
     "name": "stdout",
     "output_type": "stream",
     "text": [
      "Model: \"sequential\"\n",
      "_________________________________________________________________\n",
      "Layer (type)                 Output Shape              Param #   \n",
      "=================================================================\n",
      "conv2d (Conv2D)              (None, 26, 26, 96)        960       \n",
      "_________________________________________________________________\n",
      "conv2d_1 (Conv2D)            (None, 24, 24, 48)        41520     \n",
      "_________________________________________________________________\n",
      "flatten (Flatten)            (None, 27648)             0         \n",
      "_________________________________________________________________\n",
      "dense (Dense)                (None, 112)               3096688   \n",
      "_________________________________________________________________\n",
      "dense_1 (Dense)              (None, 10)                1130      \n",
      "=================================================================\n",
      "Total params: 3,140,298\n",
      "Trainable params: 3,140,298\n",
      "Non-trainable params: 0\n",
      "_________________________________________________________________\n"
     ]
    }
   ],
   "source": [
    "model.summary()"
   ]
  },
  {
   "cell_type": "code",
   "execution_count": 20,
   "id": "ecbda407",
   "metadata": {},
   "outputs": [
    {
     "name": "stdout",
     "output_type": "stream",
     "text": [
      "Epoch 4/10\n",
      "1688/1688 [==============================] - 367s 217ms/step - loss: 0.1058 - accuracy: 0.9608 - val_loss: 0.2958 - val_accuracy: 0.9122\n",
      "Epoch 5/10\n",
      "1688/1688 [==============================] - 313s 185ms/step - loss: 0.0695 - accuracy: 0.9745 - val_loss: 0.3358 - val_accuracy: 0.9105\n",
      "Epoch 6/10\n",
      "1688/1688 [==============================] - 282s 167ms/step - loss: 0.0451 - accuracy: 0.9839 - val_loss: 0.3741 - val_accuracy: 0.9122\n",
      "Epoch 7/10\n",
      "1688/1688 [==============================] - 284s 168ms/step - loss: 0.0344 - accuracy: 0.9882 - val_loss: 0.4302 - val_accuracy: 0.9117\n",
      "Epoch 8/10\n",
      "1688/1688 [==============================] - 294s 174ms/step - loss: 0.0264 - accuracy: 0.9904 - val_loss: 0.4437 - val_accuracy: 0.9160\n",
      "Epoch 9/10\n",
      "1688/1688 [==============================] - 377s 223ms/step - loss: 0.0225 - accuracy: 0.9922 - val_loss: 0.5153 - val_accuracy: 0.9142\n",
      "Epoch 10/10\n",
      "1688/1688 [==============================] - 434s 257ms/step - loss: 0.0203 - accuracy: 0.9930 - val_loss: 0.5405 - val_accuracy: 0.9150\n"
     ]
    },
    {
     "data": {
      "text/plain": [
       "<tensorflow.python.keras.callbacks.History at 0x28710af8c10>"
      ]
     },
     "execution_count": 20,
     "metadata": {},
     "output_type": "execute_result"
    }
   ],
   "source": [
    "## retrained the images consedering the best model from above\n",
    "model.fit(train_images,train_labels,epochs=10,validation_split=0.1,initial_epoch=3)"
   ]
  },
  {
   "cell_type": "code",
   "execution_count": null,
   "id": "6e21a257",
   "metadata": {},
   "outputs": [],
   "source": []
  },
  {
   "cell_type": "code",
   "execution_count": null,
   "id": "aab0f6e5",
   "metadata": {},
   "outputs": [],
   "source": []
  },
  {
   "cell_type": "code",
   "execution_count": null,
   "id": "139be671",
   "metadata": {},
   "outputs": [],
   "source": []
  },
  {
   "cell_type": "code",
   "execution_count": null,
   "id": "d93671ce",
   "metadata": {},
   "outputs": [],
   "source": []
  },
  {
   "cell_type": "code",
   "execution_count": null,
   "id": "2afd9dda",
   "metadata": {},
   "outputs": [],
   "source": []
  },
  {
   "cell_type": "code",
   "execution_count": null,
   "id": "4f52cc69",
   "metadata": {},
   "outputs": [],
   "source": []
  },
  {
   "cell_type": "code",
   "execution_count": null,
   "id": "b70192eb",
   "metadata": {},
   "outputs": [],
   "source": []
  }
 ],
 "metadata": {
  "kernelspec": {
   "display_name": "Python 3",
   "language": "python",
   "name": "python3"
  },
  "language_info": {
   "codemirror_mode": {
    "name": "ipython",
    "version": 3
   },
   "file_extension": ".py",
   "mimetype": "text/x-python",
   "name": "python",
   "nbconvert_exporter": "python",
   "pygments_lexer": "ipython3",
   "version": "3.9.5"
  }
 },
 "nbformat": 4,
 "nbformat_minor": 5
}
